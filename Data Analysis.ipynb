{
 "cells": [
  {
   "cell_type": "code",
   "execution_count": 9,
   "id": "d5af92e7",
   "metadata": {},
   "outputs": [],
   "source": [
    "#dataset analysis"
   ]
  },
  {
   "cell_type": "code",
   "execution_count": 10,
   "id": "27404eae",
   "metadata": {},
   "outputs": [],
   "source": [
    "import pandas as pd\n",
    "import numpy as np"
   ]
  },
  {
   "cell_type": "code",
   "execution_count": 15,
   "id": "4f41d64a",
   "metadata": {},
   "outputs": [],
   "source": [
    "train= pd.read_csv('daic_train')\n",
    "dev= pd.read_csv('daic_dev')\n",
    "test= pd.read_csv('daic_test')"
   ]
  },
  {
   "cell_type": "code",
   "execution_count": 19,
   "id": "35c1b81b",
   "metadata": {},
   "outputs": [
    {
     "data": {
      "text/plain": [
       "male       91\n",
       "female     68\n",
       "female      2\n",
       "male        2\n",
       "Name: Gender, dtype: int64"
      ]
     },
     "execution_count": 19,
     "metadata": {},
     "output_type": "execute_result"
    }
   ],
   "source": [
    "train['Gender'].value_counts() #93,70"
   ]
  },
  {
   "cell_type": "code",
   "execution_count": 21,
   "id": "d3337552",
   "metadata": {},
   "outputs": [
    {
     "data": {
      "text/plain": [
       "male      34\n",
       "female    22\n",
       "Name: Gender, dtype: int64"
      ]
     },
     "execution_count": 21,
     "metadata": {},
     "output_type": "execute_result"
    }
   ],
   "source": [
    "dev['Gender'].value_counts()"
   ]
  },
  {
   "cell_type": "code",
   "execution_count": 22,
   "id": "6169b461",
   "metadata": {},
   "outputs": [
    {
     "data": {
      "text/plain": [
       "male      43\n",
       "female    13\n",
       "Name: Gender, dtype: int64"
      ]
     },
     "execution_count": 22,
     "metadata": {},
     "output_type": "execute_result"
    }
   ],
   "source": [
    "test['Gender'].value_counts()"
   ]
  },
  {
   "cell_type": "code",
   "execution_count": 23,
   "id": "ac272acb",
   "metadata": {},
   "outputs": [
    {
     "data": {
      "text/plain": [
       "0    126\n",
       "1     37\n",
       "Name: PHQ_Binary, dtype: int64"
      ]
     },
     "execution_count": 23,
     "metadata": {},
     "output_type": "execute_result"
    }
   ],
   "source": [
    "train['PHQ_Binary'].value_counts() "
   ]
  },
  {
   "cell_type": "code",
   "execution_count": 26,
   "id": "b7394072",
   "metadata": {},
   "outputs": [
    {
     "data": {
      "text/plain": [
       "0    44\n",
       "1    12\n",
       "Name: PHQ_Binary, dtype: int64"
      ]
     },
     "execution_count": 26,
     "metadata": {},
     "output_type": "execute_result"
    }
   ],
   "source": [
    "dev['PHQ_Binary'].value_counts() "
   ]
  },
  {
   "cell_type": "code",
   "execution_count": 25,
   "id": "382e88f7",
   "metadata": {},
   "outputs": [
    {
     "data": {
      "text/plain": [
       "0    39\n",
       "1    17\n",
       "Name: PHQ_Binary, dtype: int64"
      ]
     },
     "execution_count": 25,
     "metadata": {},
     "output_type": "execute_result"
    }
   ],
   "source": [
    "test['PHQ_Binary'].value_counts() "
   ]
  },
  {
   "cell_type": "code",
   "execution_count": null,
   "id": "d66eae09",
   "metadata": {},
   "outputs": [],
   "source": []
  }
 ],
 "metadata": {
  "kernelspec": {
   "display_name": "Python 3",
   "language": "python",
   "name": "python3"
  },
  "language_info": {
   "codemirror_mode": {
    "name": "ipython",
    "version": 3
   },
   "file_extension": ".py",
   "mimetype": "text/x-python",
   "name": "python",
   "nbconvert_exporter": "python",
   "pygments_lexer": "ipython3",
   "version": "3.8.8"
  }
 },
 "nbformat": 4,
 "nbformat_minor": 5
}
